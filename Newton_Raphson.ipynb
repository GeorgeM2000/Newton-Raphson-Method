{
  "nbformat": 4,
  "nbformat_minor": 0,
  "metadata": {
    "colab": {
      "name": "Newton-Raphson.ipynb",
      "provenance": [],
      "collapsed_sections": []
    },
    "kernelspec": {
      "name": "python3",
      "display_name": "Python 3"
    },
    "language_info": {
      "name": "python"
    }
  },
  "cells": [
    {
      "cell_type": "markdown",
      "source": [
        "<h1>Newton-Raphson<h1> \n",
        "<p>A method for a system of n nonlinear equations with n unknowns.</p>"
      ],
      "metadata": {
        "id": "G3CQ-OlsuOg-"
      }
    },
    {
      "cell_type": "code",
      "source": [
        "import torch as th\n",
        "import matplotlib.pyplot as plt"
      ],
      "metadata": {
        "id": "klHQ05j1ulMm"
      },
      "execution_count": 1,
      "outputs": []
    },
    {
      "cell_type": "code",
      "source": [
        "class NewtonRaphson:\n",
        "\n",
        "  def __init__(self, x, tol, functions):\n",
        "    self.x = x\n",
        "    self.tolerance = tol\n",
        "    self.functions = functions\n",
        "\n",
        "  # Calculate the jacobian matrix\n",
        "  def jacobianMatrix(self):\n",
        "    jacobian = []\n",
        "    for i in range(len(self.functions)):\n",
        "      jacobian.append(list(map(lambda x: x.item(), list(th.autograd.functional.jacobian(self.functions[i], self.x)))))\n",
        "    return th.tensor(jacobian)\n",
        "  \n",
        "  # Calculate inverse jacobian\n",
        "  def inverseJacobian(self):\n",
        "    return th.inverse(self.jacobianMatrix())\n",
        "\n",
        "  # Calculate the function by replacing the unknowns variables with their values\n",
        "  def functionCalculation(self):\n",
        "    functionValues = []\n",
        "    for function in self.functions:\n",
        "      functionValues.append(function(self.x))\n",
        "    return th.tensor([functionValues])\n",
        "\n",
        "  # Check if the local error is greater than the tolerance\n",
        "  def islocalErrorGreaterThanTolerance(self, counter, localErrors):\n",
        "    errorsGreaterThanTolerance = 0\n",
        "    for i in range(len(self.x)):\n",
        "      if localErrors[counter][i] >= self.tolerance:\n",
        "        errorsGreaterThanTolerance += 1\n",
        "    \n",
        "    return True if errorsGreaterThanTolerance == len(self.x) else False\n",
        "\n",
        "\n",
        "  # Main Newton-Raphson algorithm\n",
        "  def newtonRaphson(self):\n",
        "    X = []\n",
        "    localErrors = [[self.x[i].item() for i in range(len(self.x))]]\n",
        "    counter = 0\n",
        "    while counter < 10 and self.islocalErrorGreaterThanTolerance(counter, localErrors):\n",
        "\n",
        "      # Calculate the jacobian and find anew solution given previous solution\n",
        "      X.append(th.sub(self.x, th.transpose(th.mm(self.inverseJacobian(), th.transpose(self.functionCalculation(), 0, 1)), 0, 1)))\n",
        "\n",
        "      # Calculate the local error for all the variables \n",
        "      localErrors.append([])\n",
        "      for i in range(len(self.x)):\n",
        "        localErrors[counter+1].append(abs(self.x[i].item() - X[counter][0][i].item()))\n",
        "      \n",
        "\n",
        "      # Update the solution x\n",
        "      self.x = th.tensor(list(map(lambda x: x.item(), list(X[counter][0]))))\n",
        "\n",
        "      # Update the counter\n",
        "      counter += 1\n",
        "\n",
        "    return X, localErrors\n",
        "\n",
        "  # Graph the error for one variable\n",
        "  def graphError(self, errors):\n",
        "    error = [x[0] for x in errors]\n",
        "    fig = plt.figure(1)\n",
        "    plt.title(\"Error\")\n",
        "    plt.plot(error)\n",
        "    plt.grid()\t\n",
        "    plt.show()\n",
        "\n"
      ],
      "metadata": {
        "id": "AH2twaYS32-V"
      },
      "execution_count": 6,
      "outputs": []
    },
    {
      "cell_type": "code",
      "source": [
        "# Initial X\n",
        "initialX = th.tensor([1.98, 1.02])\n",
        "\n",
        "functions = []\n",
        "functions.append(lambda x: x[0]+x[0]*x[1]-4)\n",
        "functions.append(lambda x: x[0]+x[1]-3)\n",
        "tolerance = 0.0003\n",
        "\n",
        "NR = NewtonRaphson(initialX, tolerance, functions)\n",
        "x, errors = NR.newtonRaphson()\n",
        "\n",
        "# Show X results\n",
        "for iteration in x:\n",
        "  print(iteration[0])\n",
        "\n",
        "# Show variable error results\n",
        "for iteration in errors:\n",
        "  print(iteration)\n",
        "\n",
        "# Graph the error for one variable\n",
        "NR.graphError(errors)\n"
      ],
      "metadata": {
        "id": "PfjkUQ_SgOsd",
        "colab": {
          "base_uri": "https://localhost:8080/",
          "height": 541
        },
        "outputId": "b969020b-7ded-4645-b0fa-b82185bf2771"
      },
      "execution_count": 7,
      "outputs": [
        {
          "output_type": "stream",
          "name": "stdout",
          "text": [
            "tensor([1.9900, 1.0100])\n",
            "tensor([1.9950, 1.0050])\n",
            "tensor([1.9975, 1.0025])\n",
            "tensor([1.9988, 1.0012])\n",
            "tensor([1.9994, 1.0006])\n",
            "tensor([1.9998, 1.0002])\n",
            "tensor([1.9998, 1.0002])\n",
            "[1.9800000190734863, 1.0199999809265137]\n",
            "[0.010001659393310547, 0.010001659393310547]\n",
            "[0.00499570369720459, 0.00499570369720459]\n",
            "[0.0024782419204711914, 0.0024782419204711914]\n",
            "[0.0012750625610351562, 0.0012750625610351562]\n",
            "[0.0006679296493530273, 0.0006679296493530273]\n",
            "[0.0004100799560546875, 0.0004100799560546875]\n",
            "[0.0, 0.0]\n"
          ]
        },
        {
          "output_type": "display_data",
          "data": {
            "text/plain": [
              "<Figure size 432x288 with 1 Axes>"
            ],
            "image/png": "[encoded data removed]"
          },
          "metadata": {
            "needs_background": "light"
          }
        }
      ]
    }
  ]
}