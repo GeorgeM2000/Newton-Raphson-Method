{
  "nbformat": 4,
  "nbformat_minor": 0,
  "metadata": {
    "colab": {
      "name": "Newton-Raphson.ipynb",
      "provenance": [],
      "collapsed_sections": []
    },
    "kernelspec": {
      "name": "python3",
      "display_name": "Python 3"
    },
    "language_info": {
      "name": "python"
    }
  },
  "cells": [
    {
      "cell_type": "markdown",
      "source": [
        "<h1>Newton-Raphson<h1> \n",
        "<p>A method for a system of n nonlinear equations with n unknowns.</p>"
      ],
      "metadata": {
        "id": "G3CQ-OlsuOg-"
      }
    },
    {
      "cell_type": "code",
      "source": [
        "import torch as th  # Pytorch library\n",
        "import matplotlib.pyplot as plt"
      ],
      "metadata": {
        "id": "klHQ05j1ulMm"
      },
      "execution_count": null,
      "outputs": []
    },
    {
      "cell_type": "code",
      "source": [
        "class NewtonRaphson:\n",
        "\n",
        "  def __init__(self, x, tol, functions, maxIterations):\n",
        "    self.x = x  # Initial x vector\n",
        "    self.tolerance = tol  # Tolerance\n",
        "    self.functions = functions  \n",
        "    self.maxIterations = maxIterations  # Max iterations \n",
        "\n",
        "  # Calculate the jacobian matrix\n",
        "  # The Jacobian method in pytorch calculates n unknown variables for one function so\n",
        "  # for n functions we loop through n times and store the results in a list.\n",
        "  def jacobianMatrix(self):\n",
        "    jacobian = []\n",
        "    for i in range(len(self.functions)):\n",
        "      jacobian.append(list(map(lambda x: x.item(), list(th.autograd.functional.jacobian(self.functions[i], self.x)))))\n",
        "    return th.tensor(jacobian, dtype=th.float64)\n",
        "  \n",
        "  # Calculate inverse jacobian\n",
        "  def inverseJacobian(self):\n",
        "    return th.inverse(self.jacobianMatrix())\n",
        "\n",
        "  # Calculate the functions by replacing the unknown variables with their values\n",
        "  def functionCalculation(self):\n",
        "    functionValues = []\n",
        "    for function in self.functions:\n",
        "      functionValues.append(function(self.x))\n",
        "    return th.tensor([functionValues], dtype=th.float64)\n",
        "\n",
        "  # Check if the local error for all the unknown variables is greater than the tolerance\n",
        "  def islocalErrorGreaterThanTolerance(self, counter, local_variable_errors):\n",
        "    errorsGreaterThanTolerance = 0\n",
        "    for i in range(len(self.x)):\n",
        "      if local_variable_errors[counter][i] >= self.tolerance:\n",
        "        errorsGreaterThanTolerance += 1\n",
        "    \n",
        "    return True if errorsGreaterThanTolerance == len(self.x) else False\n",
        "\n",
        "\n",
        "  # Main Newton-Raphson algorithm\n",
        "  def newtonRaphson(self):\n",
        "    X = [self.x] # Store the results in X\n",
        "    local_variable_errors = [[self.x[i].item() for i in range(len(self.x))]]  # Store local variable erros\n",
        "    local_errors = []   # Store local L^2 norm errors\n",
        "    counter = 0\n",
        "    while counter < self.maxIterations and self.islocalErrorGreaterThanTolerance(counter, local_variable_errors):\n",
        "\n",
        "      # Update the counter\n",
        "      counter += 1  \n",
        "\n",
        "      # Calculate the jacobian and find a new solution given previous solution\n",
        "      X.append(th.sub(self.x, th.transpose(th.mm(self.inverseJacobian(), th.transpose(self.functionCalculation(), 0, 1)), 0, 1)))\n",
        "\n",
        "      # Calculate the local error for each unknown variables and store it in an array \n",
        "      # Calculate the local error for all unknown variables\n",
        "      local_variable_errors.append([])\n",
        "      local_error = 0\n",
        "      for i in range(len(self.x)):\n",
        "        local_variable_errors[counter].append(abs(X[counter][0][i].item() - self.x[i].item()))\n",
        "        local_error += (X[counter][0][i].item() - self.x[i].item())**2\n",
        "\n",
        "      local_errors.append(local_error**(1./2.))\n",
        "\n",
        "      # Update the solution x\n",
        "      self.x = th.tensor(list(map(lambda x: x.item(), list(X[counter][0]))), dtype=th.float64)\n",
        "\n",
        "    return X, local_variable_errors, local_errors\n",
        "\n",
        "  # Exact error\n",
        "  def exact_error(self, exact_solution, approx_solution):\n",
        "    exact_error = 0\n",
        "    for i in range(len(self.x)):\n",
        "      exact_error += (exact_solution[i] - approx_solution[-1][0][i].item())**2\n",
        "\n",
        "    return exact_error**(1./2.)\n",
        "\n",
        "  # Graph the error for all variables\n",
        "  def graphError(self, error):\n",
        "    fig = plt.figure(1)\n",
        "    plt.title(\"Error\")\n",
        "    plt.xlabel(\"Iterations\")\n",
        "    plt.ylabel(\"Error\")\n",
        "    plt.plot(error)\n",
        "    plt.grid()  \n",
        "    plt.show()"
      ],
      "metadata": {
        "id": "AH2twaYS32-V"
      },
      "execution_count": null,
      "outputs": []
    },
    {
      "cell_type": "code",
      "source": [
        "# Initial X\n",
        "initialX = th.tensor([1.02, 0.5], dtype=th.float64)\n",
        "\n",
        "# Functions\n",
        "functions = []\n",
        "functions.append(lambda x: x[0]+x[0]*x[1]-4)\n",
        "functions.append(lambda x: x[0]+x[1]-3)\n",
        "tolerance = 1e-08\n",
        "\n",
        "# Real solutions\n",
        "exact_solution = [2., 1.]\n",
        "\n",
        "# Max iterations\n",
        "maxIterations = 200\n",
        "\n",
        "NR = NewtonRaphson(initialX, tolerance, functions, maxIterations)\n",
        "x, variable_erros, local_errors = NR.newtonRaphson()\n",
        "\n",
        "# Show X results\n",
        "print('X results: \\n')\n",
        "print(x[0])\n",
        "for solution in range(1,len(x)):\n",
        "  for variable in range(len(initialX)):\n",
        "    print(x[solution][0][variable].item(), end=\" \")\n",
        "  print()\n",
        "\n",
        "# Show variable error results\n",
        "print('\\nVariable error results: \\n')\n",
        "for var_err in variable_erros:\n",
        "  print(var_err)\n",
        "\n",
        "# Show local L^2 norm error\n",
        "print('\\nL^2 local error results: \\n')\n",
        "for lcl_err in local_errors:\n",
        "  print(lcl_err)\n",
        "\n",
        "# Show the exact error\n",
        "print(f'\\nThe exact error between x* and x is: {NR.exact_error(exact_solution, x)}')\n",
        "\n",
        "# Graph the error for one variable\n",
        "NR.graphError(local_errors)"
      ],
      "metadata": {
        "id": "PfjkUQ_SgOsd"
      },
      "execution_count": null,
      "outputs": []
    }
  ]
}